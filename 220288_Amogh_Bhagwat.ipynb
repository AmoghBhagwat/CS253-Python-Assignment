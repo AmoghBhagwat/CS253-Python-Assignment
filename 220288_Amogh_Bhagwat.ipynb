{
 "cells": [
  {
   "cell_type": "markdown",
   "id": "a730f115",
   "metadata": {
    "papermill": {
     "duration": 0.009948,
     "end_time": "2024-04-14T04:33:37.454111",
     "exception": false,
     "start_time": "2024-04-14T04:33:37.444163",
     "status": "completed"
    },
    "tags": []
   },
   "source": [
    "Importing necessary libraries and training dataset"
   ]
  },
  {
   "cell_type": "code",
   "execution_count": 1,
   "id": "a7100909",
   "metadata": {
    "execution": {
     "iopub.execute_input": "2024-04-14T04:33:37.475369Z",
     "iopub.status.busy": "2024-04-14T04:33:37.474627Z",
     "iopub.status.idle": "2024-04-14T04:33:38.280568Z",
     "shell.execute_reply": "2024-04-14T04:33:38.279602Z"
    },
    "papermill": {
     "duration": 0.819963,
     "end_time": "2024-04-14T04:33:38.283775",
     "exception": false,
     "start_time": "2024-04-14T04:33:37.463812",
     "status": "completed"
    },
    "tags": []
   },
   "outputs": [
    {
     "data": {
      "text/html": [
       "<div>\n",
       "<style scoped>\n",
       "    .dataframe tbody tr th:only-of-type {\n",
       "        vertical-align: middle;\n",
       "    }\n",
       "\n",
       "    .dataframe tbody tr th {\n",
       "        vertical-align: top;\n",
       "    }\n",
       "\n",
       "    .dataframe thead th {\n",
       "        text-align: right;\n",
       "    }\n",
       "</style>\n",
       "<table border=\"1\" class=\"dataframe\">\n",
       "  <thead>\n",
       "    <tr style=\"text-align: right;\">\n",
       "      <th></th>\n",
       "      <th>ID</th>\n",
       "      <th>Candidate</th>\n",
       "      <th>Constituency ∇</th>\n",
       "      <th>Party</th>\n",
       "      <th>Criminal Case</th>\n",
       "      <th>Total Assets</th>\n",
       "      <th>Liabilities</th>\n",
       "      <th>state</th>\n",
       "      <th>Education</th>\n",
       "    </tr>\n",
       "  </thead>\n",
       "  <tbody>\n",
       "    <tr>\n",
       "      <th>0</th>\n",
       "      <td>0</td>\n",
       "      <td>M.K. Mohan</td>\n",
       "      <td>ANNA NAGAR</td>\n",
       "      <td>DMK</td>\n",
       "      <td>4</td>\n",
       "      <td>211 Crore+</td>\n",
       "      <td>2 Crore+</td>\n",
       "      <td>TAMIL NADU</td>\n",
       "      <td>8th Pass</td>\n",
       "    </tr>\n",
       "    <tr>\n",
       "      <th>1</th>\n",
       "      <td>1</td>\n",
       "      <td>Khatik Ramesh Prasad</td>\n",
       "      <td>KARERA (SC)</td>\n",
       "      <td>BJP</td>\n",
       "      <td>0</td>\n",
       "      <td>1 Crore+</td>\n",
       "      <td>0</td>\n",
       "      <td>MADHYA PRADESH</td>\n",
       "      <td>12th Pass</td>\n",
       "    </tr>\n",
       "    <tr>\n",
       "      <th>2</th>\n",
       "      <td>2</td>\n",
       "      <td>Dr. Mantar Gowda</td>\n",
       "      <td>MADIKERI</td>\n",
       "      <td>INC</td>\n",
       "      <td>0</td>\n",
       "      <td>7 Crore+</td>\n",
       "      <td>22 Lac+</td>\n",
       "      <td>KARNATAKA</td>\n",
       "      <td>Post Graduate</td>\n",
       "    </tr>\n",
       "    <tr>\n",
       "      <th>3</th>\n",
       "      <td>3</td>\n",
       "      <td>Kundan Kumar</td>\n",
       "      <td>BEGUSARAI</td>\n",
       "      <td>BJP</td>\n",
       "      <td>0</td>\n",
       "      <td>9 Crore+</td>\n",
       "      <td>24 Lac+</td>\n",
       "      <td>BIHAR</td>\n",
       "      <td>Post Graduate</td>\n",
       "    </tr>\n",
       "    <tr>\n",
       "      <th>4</th>\n",
       "      <td>4</td>\n",
       "      <td>Swapan Majumder</td>\n",
       "      <td>BANGAON DAKSHIN (SC)</td>\n",
       "      <td>BJP</td>\n",
       "      <td>2</td>\n",
       "      <td>2 Crore+</td>\n",
       "      <td>61 Lac+</td>\n",
       "      <td>WEST BENGAL</td>\n",
       "      <td>8th Pass</td>\n",
       "    </tr>\n",
       "  </tbody>\n",
       "</table>\n",
       "</div>"
      ],
      "text/plain": [
       "   ID             Candidate        Constituency ∇ Party  Criminal Case  \\\n",
       "0   0            M.K. Mohan            ANNA NAGAR   DMK              4   \n",
       "1   1  Khatik Ramesh Prasad           KARERA (SC)   BJP              0   \n",
       "2   2      Dr. Mantar Gowda              MADIKERI   INC              0   \n",
       "3   3          Kundan Kumar             BEGUSARAI   BJP              0   \n",
       "4   4       Swapan Majumder  BANGAON DAKSHIN (SC)   BJP              2   \n",
       "\n",
       "  Total Assets Liabilities           state      Education  \n",
       "0   211 Crore+    2 Crore+      TAMIL NADU       8th Pass  \n",
       "1     1 Crore+           0  MADHYA PRADESH      12th Pass  \n",
       "2     7 Crore+     22 Lac+       KARNATAKA  Post Graduate  \n",
       "3     9 Crore+     24 Lac+           BIHAR  Post Graduate  \n",
       "4     2 Crore+     61 Lac+     WEST BENGAL       8th Pass  "
      ]
     },
     "execution_count": 1,
     "metadata": {},
     "output_type": "execute_result"
    }
   ],
   "source": [
    "import numpy as np\n",
    "import pandas as pd\n",
    "import matplotlib.pyplot as plt\n",
    "\n",
    "train_df = pd.read_csv('/kaggle/input/who-is-the-real-winner/train.csv')\n",
    "train_df.head()"
   ]
  },
  {
   "cell_type": "markdown",
   "id": "9dddbe09",
   "metadata": {
    "papermill": {
     "duration": 0.010015,
     "end_time": "2024-04-14T04:33:38.304043",
     "exception": false,
     "start_time": "2024-04-14T04:33:38.294028",
     "status": "completed"
    },
    "tags": []
   },
   "source": [
    "Viewing basic distribution of the columns of the dataset"
   ]
  },
  {
   "cell_type": "code",
   "execution_count": 2,
   "id": "6fb92785",
   "metadata": {
    "execution": {
     "iopub.execute_input": "2024-04-14T04:33:38.326749Z",
     "iopub.status.busy": "2024-04-14T04:33:38.326156Z",
     "iopub.status.idle": "2024-04-14T04:33:38.642563Z",
     "shell.execute_reply": "2024-04-14T04:33:38.641584Z"
    },
    "papermill": {
     "duration": 0.330625,
     "end_time": "2024-04-14T04:33:38.644995",
     "exception": false,
     "start_time": "2024-04-14T04:33:38.314370",
     "status": "completed"
    },
    "tags": []
   },
   "outputs": [
    {
     "data": {
      "text/plain": [
       "<Axes: >"
      ]
     },
     "execution_count": 2,
     "metadata": {},
     "output_type": "execute_result"
    },
    {
     "data": {
      "image/png": "[encoded data removed]",
      "text/plain": [
       "<Figure size 640x480 with 1 Axes>"
      ]
     },
     "metadata": {},
     "output_type": "display_data"
    }
   ],
   "source": [
    "train_df['Education'].hist(xrot=90)"
   ]
  },
  {
   "cell_type": "code",
   "execution_count": 3,
   "id": "6c6563e7",
   "metadata": {
    "_cell_guid": "b1076dfc-b9ad-4769-8c92-a6c4dae69d19",
    "_uuid": "8f2839f25d086af736a60e9eeb907d3b93b6e0e5",
    "execution": {
     "iopub.execute_input": "2024-04-14T04:33:38.668425Z",
     "iopub.status.busy": "2024-04-14T04:33:38.667392Z",
     "iopub.status.idle": "2024-04-14T04:33:39.076927Z",
     "shell.execute_reply": "2024-04-14T04:33:39.076059Z"
    },
    "papermill": {
     "duration": 0.423286,
     "end_time": "2024-04-14T04:33:39.078955",
     "exception": false,
     "start_time": "2024-04-14T04:33:38.655669",
     "status": "completed"
    },
    "tags": []
   },
   "outputs": [
    {
     "data": {
      "text/plain": [
       "<Axes: >"
      ]
     },
     "execution_count": 3,
     "metadata": {},
     "output_type": "execute_result"
    },
    {
     "data": {
      "image/png": "[encoded data removed]",
      "text/plain": [
       "<Figure size 640x480 with 1 Axes>"
      ]
     },
     "metadata": {},
     "output_type": "display_data"
    }
   ],
   "source": [
    "train_df['state'].hist(xrot=90)"
   ]
  },
  {
   "cell_type": "code",
   "execution_count": 4,
   "id": "37e22484",
   "metadata": {
    "execution": {
     "iopub.execute_input": "2024-04-14T04:33:39.103723Z",
     "iopub.status.busy": "2024-04-14T04:33:39.103011Z",
     "iopub.status.idle": "2024-04-14T04:33:39.464445Z",
     "shell.execute_reply": "2024-04-14T04:33:39.463412Z"
    },
    "papermill": {
     "duration": 0.376456,
     "end_time": "2024-04-14T04:33:39.466721",
     "exception": false,
     "start_time": "2024-04-14T04:33:39.090265",
     "status": "completed"
    },
    "tags": []
   },
   "outputs": [
    {
     "data": {
      "text/plain": [
       "<Axes: >"
      ]
     },
     "execution_count": 4,
     "metadata": {},
     "output_type": "execute_result"
    },
    {
     "data": {
      "image/png": "[encoded data removed]",
      "text/plain": [
       "<Figure size 640x480 with 1 Axes>"
      ]
     },
     "metadata": {},
     "output_type": "display_data"
    }
   ],
   "source": [
    "train_df['Party'].hist(xrot=90)"
   ]
  },
  {
   "cell_type": "code",
   "execution_count": 5,
   "id": "c129485c",
   "metadata": {
    "execution": {
     "iopub.execute_input": "2024-04-14T04:33:39.493486Z",
     "iopub.status.busy": "2024-04-14T04:33:39.492585Z",
     "iopub.status.idle": "2024-04-14T04:33:39.744533Z",
     "shell.execute_reply": "2024-04-14T04:33:39.743522Z"
    },
    "papermill": {
     "duration": 0.267865,
     "end_time": "2024-04-14T04:33:39.746778",
     "exception": false,
     "start_time": "2024-04-14T04:33:39.478913",
     "status": "completed"
    },
    "tags": []
   },
   "outputs": [
    {
     "data": {
      "text/plain": [
       "<Axes: >"
      ]
     },
     "execution_count": 5,
     "metadata": {},
     "output_type": "execute_result"
    },
    {
     "data": {
      "image/png": "[encoded data removed]",
      "text/plain": [
       "<Figure size 640x480 with 1 Axes>"
      ]
     },
     "metadata": {},
     "output_type": "display_data"
    }
   ],
   "source": [
    "train_df['Criminal Case'].hist(xrot=90)"
   ]
  },
  {
   "cell_type": "markdown",
   "id": "53cfe63d",
   "metadata": {
    "papermill": {
     "duration": 0.013235,
     "end_time": "2024-04-14T04:33:39.772193",
     "exception": false,
     "start_time": "2024-04-14T04:33:39.758958",
     "status": "completed"
    },
    "tags": []
   },
   "source": [
    "    Since data points are very less and it is very skewed towards a certain classes, let I have generated synthetic data by using CtGAN Approach. Since I was having troubles verifying my phone number on kaggle, it did not allow me to use internet in the kaggle notebook. The code for synthesizing data is given [here](https://colab.research.google.com/drive/1kGjcZmSdl2IITnneCV7jnKvmeqVbZEvV?usp=sharing)."
   ]
  },
  {
   "cell_type": "code",
   "execution_count": 6,
   "id": "27be9e27",
   "metadata": {
    "execution": {
     "iopub.execute_input": "2024-04-14T04:33:39.802028Z",
     "iopub.status.busy": "2024-04-14T04:33:39.801683Z",
     "iopub.status.idle": "2024-04-14T04:33:39.829548Z",
     "shell.execute_reply": "2024-04-14T04:33:39.828061Z"
    },
    "papermill": {
     "duration": 0.04426,
     "end_time": "2024-04-14T04:33:39.832211",
     "exception": false,
     "start_time": "2024-04-14T04:33:39.787951",
     "status": "completed"
    },
    "tags": []
   },
   "outputs": [],
   "source": [
    "train_df = pd.read_csv('/kaggle/input/synthetic-politicians/synthetic (1).csv')"
   ]
  },
  {
   "cell_type": "markdown",
   "id": "f5e87c78",
   "metadata": {
    "papermill": {
     "duration": 0.012167,
     "end_time": "2024-04-14T04:33:39.856956",
     "exception": false,
     "start_time": "2024-04-14T04:33:39.844789",
     "status": "completed"
    },
    "tags": []
   },
   "source": [
    "Converting text data of assets and liabilites to numeric data"
   ]
  },
  {
   "cell_type": "code",
   "execution_count": 7,
   "id": "312c0f15",
   "metadata": {
    "execution": {
     "iopub.execute_input": "2024-04-14T04:33:39.883569Z",
     "iopub.status.busy": "2024-04-14T04:33:39.883126Z",
     "iopub.status.idle": "2024-04-14T04:33:39.895948Z",
     "shell.execute_reply": "2024-04-14T04:33:39.894947Z"
    },
    "papermill": {
     "duration": 0.028613,
     "end_time": "2024-04-14T04:33:39.897898",
     "exception": false,
     "start_time": "2024-04-14T04:33:39.869285",
     "status": "completed"
    },
    "tags": []
   },
   "outputs": [
    {
     "data": {
      "text/plain": [
       "{'Crore+', 'Hund+', 'Lac+', 'Thou+'}"
      ]
     },
     "execution_count": 7,
     "metadata": {},
     "output_type": "execute_result"
    }
   ],
   "source": [
    "assets = train_df['Total Assets']\n",
    "liabilities = train_df['Liabilities']\n",
    "categories = set()\n",
    "\n",
    "for asset in assets:\n",
    "    words = asset.split()\n",
    "    if (len(words) > 1):\n",
    "        categories.add(words[1])\n",
    "        \n",
    "for liability in liabilities:\n",
    "    words = liability.split()\n",
    "    if (len(words) > 1):\n",
    "        categories.add(words[1])\n",
    "        \n",
    "categories"
   ]
  },
  {
   "cell_type": "code",
   "execution_count": 8,
   "id": "93e63696",
   "metadata": {
    "execution": {
     "iopub.execute_input": "2024-04-14T04:33:39.924820Z",
     "iopub.status.busy": "2024-04-14T04:33:39.924196Z",
     "iopub.status.idle": "2024-04-14T04:33:40.207583Z",
     "shell.execute_reply": "2024-04-14T04:33:40.206525Z"
    },
    "papermill": {
     "duration": 0.299346,
     "end_time": "2024-04-14T04:33:40.209676",
     "exception": false,
     "start_time": "2024-04-14T04:33:39.910330",
     "status": "completed"
    },
    "tags": []
   },
   "outputs": [
    {
     "data": {
      "text/plain": [
       "<Axes: >"
      ]
     },
     "execution_count": 8,
     "metadata": {},
     "output_type": "execute_result"
    },
    {
     "data": {
      "image/png": "[encoded data removed]",
      "text/plain": [
       "<Figure size 640x480 with 1 Axes>"
      ]
     },
     "metadata": {},
     "output_type": "display_data"
    }
   ],
   "source": [
    "total_assets = []\n",
    "for asset in assets:\n",
    "    words = asset.split()\n",
    "    if (len(words) > 1):\n",
    "        magnitude = words[1]\n",
    "        num = int(words[0])\n",
    "        if (magnitude == 'Crore+'):\n",
    "            num *= 10**7\n",
    "        if (magnitude == 'Lac+'):\n",
    "            num *= 10**5\n",
    "        if (magnitude == 'Thou+'):\n",
    "            num *= 10**3\n",
    "        if (magnitude == 'Hund+'):\n",
    "            num *= 100\n",
    "        total_assets.append(num)\n",
    "    else:\n",
    "        total_assets.append(int(words[0]))\n",
    "\n",
    "total_liabilities = []\n",
    "for liability in liabilities:\n",
    "    words = liability.split()\n",
    "    if (len(words) > 1):\n",
    "        magnitude = words[1]\n",
    "        num = int(words[0])\n",
    "        if (magnitude == 'Crore+'):\n",
    "            num *= 10**7\n",
    "        if (magnitude == 'Lac+'):\n",
    "            num *= 10**5\n",
    "        if (magnitude == 'Thou+'):\n",
    "            num *= 10**3\n",
    "        total_liabilities.append(num)\n",
    "    else:\n",
    "        total_liabilities.append(int(words[0]))\n",
    "\n",
    "train_df[\"Total Assets\"] = total_assets\n",
    "train_df[\"Liabilities\"] = total_liabilities\n",
    "train_df[\"Total Assets\"].hist(xrot=90)"
   ]
  },
  {
   "cell_type": "code",
   "execution_count": 9,
   "id": "40982888",
   "metadata": {
    "execution": {
     "iopub.execute_input": "2024-04-14T04:33:40.239732Z",
     "iopub.status.busy": "2024-04-14T04:33:40.239266Z",
     "iopub.status.idle": "2024-04-14T04:33:40.497783Z",
     "shell.execute_reply": "2024-04-14T04:33:40.496410Z"
    },
    "papermill": {
     "duration": 0.27741,
     "end_time": "2024-04-14T04:33:40.500270",
     "exception": false,
     "start_time": "2024-04-14T04:33:40.222860",
     "status": "completed"
    },
    "tags": []
   },
   "outputs": [
    {
     "data": {
      "text/plain": [
       "<Axes: >"
      ]
     },
     "execution_count": 9,
     "metadata": {},
     "output_type": "execute_result"
    },
    {
     "data": {
      "image/png": "[encoded data removed]",
      "text/plain": [
       "<Figure size 640x480 with 1 Axes>"
      ]
     },
     "metadata": {},
     "output_type": "display_data"
    }
   ],
   "source": [
    "train_df[\"Liabilities\"].hist(xrot=90)"
   ]
  },
  {
   "cell_type": "code",
   "execution_count": 10,
   "id": "7fbbf14b",
   "metadata": {
    "execution": {
     "iopub.execute_input": "2024-04-14T04:33:40.528620Z",
     "iopub.status.busy": "2024-04-14T04:33:40.528257Z",
     "iopub.status.idle": "2024-04-14T04:33:40.800753Z",
     "shell.execute_reply": "2024-04-14T04:33:40.799739Z"
    },
    "papermill": {
     "duration": 0.289467,
     "end_time": "2024-04-14T04:33:40.803067",
     "exception": false,
     "start_time": "2024-04-14T04:33:40.513600",
     "status": "completed"
    },
    "tags": []
   },
   "outputs": [
    {
     "data": {
      "text/plain": [
       "Text(0, 0.5, 'Total Liabilities')"
      ]
     },
     "execution_count": 10,
     "metadata": {},
     "output_type": "execute_result"
    },
    {
     "data": {
      "image/png": "[encoded data removed]",
      "text/plain": [
       "<Figure size 640x480 with 1 Axes>"
      ]
     },
     "metadata": {},
     "output_type": "display_data"
    }
   ],
   "source": [
    "plt.scatter(train_df['Total Assets'], train_df['Liabilities'], )\n",
    "plt.xlabel('Total Assets')\n",
    "plt.ylabel('Total Liabilities')"
   ]
  },
  {
   "cell_type": "code",
   "execution_count": 11,
   "id": "4ece3ee3",
   "metadata": {
    "execution": {
     "iopub.execute_input": "2024-04-14T04:33:40.832805Z",
     "iopub.status.busy": "2024-04-14T04:33:40.831867Z",
     "iopub.status.idle": "2024-04-14T04:33:40.842431Z",
     "shell.execute_reply": "2024-04-14T04:33:40.841705Z"
    },
    "papermill": {
     "duration": 0.027529,
     "end_time": "2024-04-14T04:33:40.844429",
     "exception": false,
     "start_time": "2024-04-14T04:33:40.816900",
     "status": "completed"
    },
    "tags": []
   },
   "outputs": [],
   "source": [
    "train_df = train_df[train_df['Total Assets'] < 3*10**9]\n",
    "train_df = train_df[train_df['Liabilities'] < 0.5*10**9]"
   ]
  },
  {
   "cell_type": "code",
   "execution_count": 12,
   "id": "6e2964e6",
   "metadata": {
    "execution": {
     "iopub.execute_input": "2024-04-14T04:33:40.874167Z",
     "iopub.status.busy": "2024-04-14T04:33:40.873310Z",
     "iopub.status.idle": "2024-04-14T04:33:41.129791Z",
     "shell.execute_reply": "2024-04-14T04:33:41.128773Z"
    },
    "papermill": {
     "duration": 0.273402,
     "end_time": "2024-04-14T04:33:41.131980",
     "exception": false,
     "start_time": "2024-04-14T04:33:40.858578",
     "status": "completed"
    },
    "tags": []
   },
   "outputs": [
    {
     "data": {
      "text/plain": [
       "Text(0, 0.5, 'Total Liabilities')"
      ]
     },
     "execution_count": 12,
     "metadata": {},
     "output_type": "execute_result"
    },
    {
     "data": {
      "image/png": "[encoded data removed]",
      "text/plain": [
       "<Figure size 640x480 with 1 Axes>"
      ]
     },
     "metadata": {},
     "output_type": "display_data"
    }
   ],
   "source": [
    "plt.scatter(train_df['Total Assets'], train_df['Liabilities'])\n",
    "plt.xlabel('Total Assets')\n",
    "plt.ylabel('Total Liabilities')"
   ]
  },
  {
   "cell_type": "code",
   "execution_count": 13,
   "id": "06834ab3",
   "metadata": {
    "execution": {
     "iopub.execute_input": "2024-04-14T04:33:41.162138Z",
     "iopub.status.busy": "2024-04-14T04:33:41.161748Z",
     "iopub.status.idle": "2024-04-14T04:33:41.496461Z",
     "shell.execute_reply": "2024-04-14T04:33:41.495476Z"
    },
    "papermill": {
     "duration": 0.352473,
     "end_time": "2024-04-14T04:33:41.498791",
     "exception": false,
     "start_time": "2024-04-14T04:33:41.146318",
     "status": "completed"
    },
    "tags": []
   },
   "outputs": [
    {
     "data": {
      "text/plain": [
       "Text(0, 0.5, 'Percent of Candidates')"
      ]
     },
     "execution_count": 13,
     "metadata": {},
     "output_type": "execute_result"
    },
    {
     "data": {
      "image/png": "[encoded data removed]",
      "text/plain": [
       "<Figure size 640x480 with 1 Axes>"
      ]
     },
     "metadata": {},
     "output_type": "display_data"
    }
   ],
   "source": [
    "sorted_df = train_df.sort_values(by='Criminal Case', ascending=False)\n",
    "top_percentile = sorted_df.head(int(len(sorted_df)*0.25))\n",
    "party_percent = top_percentile['Party'].value_counts(normalize=True) * 100\n",
    "\n",
    "party_percent.plot(kind='bar')\n",
    "plt.ylabel('Percent of Candidates')"
   ]
  },
  {
   "cell_type": "code",
   "execution_count": 14,
   "id": "7ddb896d",
   "metadata": {
    "execution": {
     "iopub.execute_input": "2024-04-14T04:33:41.530900Z",
     "iopub.status.busy": "2024-04-14T04:33:41.530539Z",
     "iopub.status.idle": "2024-04-14T04:33:41.865755Z",
     "shell.execute_reply": "2024-04-14T04:33:41.864570Z"
    },
    "papermill": {
     "duration": 0.353986,
     "end_time": "2024-04-14T04:33:41.868044",
     "exception": false,
     "start_time": "2024-04-14T04:33:41.514058",
     "status": "completed"
    },
    "tags": []
   },
   "outputs": [
    {
     "data": {
      "text/plain": [
       "Text(0, 0.5, 'Percent of Candidates')"
      ]
     },
     "execution_count": 14,
     "metadata": {},
     "output_type": "execute_result"
    },
    {
     "data": {
      "image/png": "[encoded data removed]",
      "text/plain": [
       "<Figure size 640x480 with 1 Axes>"
      ]
     },
     "metadata": {},
     "output_type": "display_data"
    }
   ],
   "source": [
    "sorted_df = train_df.sort_values(by='Total Assets', ascending=False)\n",
    "top_percentile = sorted_df.head(int(len(sorted_df)*0.25))\n",
    "party_percent = top_percentile['Party'].value_counts(normalize=True) * 100\n",
    "\n",
    "party_percent.plot(kind='bar')\n",
    "plt.ylabel('Percent of Candidates')"
   ]
  },
  {
   "cell_type": "code",
   "execution_count": 15,
   "id": "970840de",
   "metadata": {
    "execution": {
     "iopub.execute_input": "2024-04-14T04:33:41.902131Z",
     "iopub.status.busy": "2024-04-14T04:33:41.901415Z",
     "iopub.status.idle": "2024-04-14T04:33:41.917084Z",
     "shell.execute_reply": "2024-04-14T04:33:41.916063Z"
    },
    "papermill": {
     "duration": 0.035841,
     "end_time": "2024-04-14T04:33:41.919632",
     "exception": false,
     "start_time": "2024-04-14T04:33:41.883791",
     "status": "completed"
    },
    "tags": []
   },
   "outputs": [
    {
     "data": {
      "text/plain": [
       "(      Unnamed: 0    ID                  Candidate  Constituency ∇  Party  \\\n",
       " 0              0   500              sdv-pii-1yd3o   sdv-pii-a4l0v    BJP   \n",
       " 1              1   501              sdv-pii-84xm0   sdv-pii-ise5n    BJD   \n",
       " 2              2   502              sdv-pii-p4mjq   sdv-pii-8rv6r   AITC   \n",
       " 3              3   503              sdv-pii-0lguj   sdv-pii-l5c6a  JD(U)   \n",
       " 4              4   504              sdv-pii-sgo1a   sdv-pii-h7ugz    BJP   \n",
       " ...          ...   ...                        ...             ...    ...   \n",
       " 3054        3054  2054                    V. Sasi  CHIRAYINKEEZHU    CPI   \n",
       " 3055        3055  2055          Pushkar Lal Dangi           MAVLI    INC   \n",
       " 3056        3056  2056          Dr. Manju Shiwach      MODI NAGAR    BJP   \n",
       " 3057        3057  2057  Mansing Fattesingrao Naik         SHIRALA    NCP   \n",
       " 3058        3058  2058                Nyato Rigia          TALIHA    BJP   \n",
       " \n",
       "       Criminal Case  Total Assets  Liabilities              state  \n",
       " 0                 1      50000000            0             Nevada  \n",
       " 1                 0      20000000            0      New Hampshire  \n",
       " 2                 2      40000000            0           Maryland  \n",
       " 3                 3      30000000      3300000         Washington  \n",
       " 4                 1      50000000      5300000              Maine  \n",
       " ...             ...           ...          ...                ...  \n",
       " 3054              1       6100000      1000000             KERALA  \n",
       " 3055              0      20000000       800000          RAJASTHAN  \n",
       " 3056              0     130000000      8500000      UTTAR PRADESH  \n",
       " 3057              1     250000000      9400000        MAHARASHTRA  \n",
       " 3058              0       1100000            0  ARUNACHAL PRADESH  \n",
       " \n",
       " [3022 rows x 9 columns],\n",
       " 0               Post Graduate\n",
       " 1                    Graduate\n",
       " 2                   Doctorate\n",
       " 3               Post Graduate\n",
       " 4               Post Graduate\n",
       "                 ...          \n",
       " 3054    Graduate Professional\n",
       " 3055                10th Pass\n",
       " 3056                 Graduate\n",
       " 3057                12th Pass\n",
       " 3058                 Graduate\n",
       " Name: Education, Length: 3022, dtype: object)"
      ]
     },
     "execution_count": 15,
     "metadata": {},
     "output_type": "execute_result"
    }
   ],
   "source": [
    "Y = train_df['Education']\n",
    "X = train_df.drop(['Education'], axis=1)\n",
    "\n",
    "X, Y"
   ]
  },
  {
   "cell_type": "markdown",
   "id": "780c056d",
   "metadata": {
    "papermill": {
     "duration": 0.015518,
     "end_time": "2024-04-14T04:33:41.951081",
     "exception": false,
     "start_time": "2024-04-14T04:33:41.935563",
     "status": "completed"
    },
    "tags": []
   },
   "source": [
    "Generally, asset/liabilities ratio is also a very useful tool to judge financial traits, so I have created this extra feature with the hopes that our model is better"
   ]
  },
  {
   "cell_type": "code",
   "execution_count": 16,
   "id": "62dce940",
   "metadata": {
    "execution": {
     "iopub.execute_input": "2024-04-14T04:33:41.984710Z",
     "iopub.status.busy": "2024-04-14T04:33:41.983960Z",
     "iopub.status.idle": "2024-04-14T04:33:41.991066Z",
     "shell.execute_reply": "2024-04-14T04:33:41.990213Z"
    },
    "papermill": {
     "duration": 0.026187,
     "end_time": "2024-04-14T04:33:41.993088",
     "exception": false,
     "start_time": "2024-04-14T04:33:41.966901",
     "status": "completed"
    },
    "tags": []
   },
   "outputs": [],
   "source": [
    "X['Ratio'] = X['Total Assets'].divide(X['Liabilities']).replace(np.inf, 1e10).replace(np.nan, 0)"
   ]
  },
  {
   "cell_type": "code",
   "execution_count": 17,
   "id": "4872216a",
   "metadata": {
    "execution": {
     "iopub.execute_input": "2024-04-14T04:33:42.026873Z",
     "iopub.status.busy": "2024-04-14T04:33:42.026100Z",
     "iopub.status.idle": "2024-04-14T04:33:42.038129Z",
     "shell.execute_reply": "2024-04-14T04:33:42.037135Z"
    },
    "papermill": {
     "duration": 0.031297,
     "end_time": "2024-04-14T04:33:42.040226",
     "exception": false,
     "start_time": "2024-04-14T04:33:42.008929",
     "status": "completed"
    },
    "tags": []
   },
   "outputs": [
    {
     "data": {
      "text/plain": [
       "count    3.022000e+03\n",
       "mean     2.157513e+09\n",
       "std      4.114105e+09\n",
       "min      0.000000e+00\n",
       "25%      3.157051e+00\n",
       "50%      1.339744e+01\n",
       "75%      3.928571e+02\n",
       "max      1.000000e+10\n",
       "Name: Ratio, dtype: float64"
      ]
     },
     "execution_count": 17,
     "metadata": {},
     "output_type": "execute_result"
    }
   ],
   "source": [
    "X['Ratio'].describe()"
   ]
  },
  {
   "cell_type": "code",
   "execution_count": 18,
   "id": "2488204d",
   "metadata": {
    "execution": {
     "iopub.execute_input": "2024-04-14T04:33:42.129821Z",
     "iopub.status.busy": "2024-04-14T04:33:42.129369Z",
     "iopub.status.idle": "2024-04-14T04:33:43.279660Z",
     "shell.execute_reply": "2024-04-14T04:33:43.278798Z"
    },
    "papermill": {
     "duration": 1.170452,
     "end_time": "2024-04-14T04:33:43.282206",
     "exception": false,
     "start_time": "2024-04-14T04:33:42.111754",
     "status": "completed"
    },
    "tags": []
   },
   "outputs": [],
   "source": [
    "from sklearn.preprocessing import OrdinalEncoder\n",
    "party_encoder = OrdinalEncoder()\n",
    "X['Party'] = party_encoder.fit_transform(X['Party'].values.reshape(-1, 1))"
   ]
  },
  {
   "cell_type": "code",
   "execution_count": 19,
   "id": "ceb7c9c1",
   "metadata": {
    "execution": {
     "iopub.execute_input": "2024-04-14T04:33:43.317465Z",
     "iopub.status.busy": "2024-04-14T04:33:43.316865Z",
     "iopub.status.idle": "2024-04-14T04:33:43.333753Z",
     "shell.execute_reply": "2024-04-14T04:33:43.332467Z"
    },
    "papermill": {
     "duration": 0.037592,
     "end_time": "2024-04-14T04:33:43.336200",
     "exception": false,
     "start_time": "2024-04-14T04:33:43.298608",
     "status": "completed"
    },
    "tags": []
   },
   "outputs": [
    {
     "data": {
      "text/html": [
       "<div>\n",
       "<style scoped>\n",
       "    .dataframe tbody tr th:only-of-type {\n",
       "        vertical-align: middle;\n",
       "    }\n",
       "\n",
       "    .dataframe tbody tr th {\n",
       "        vertical-align: top;\n",
       "    }\n",
       "\n",
       "    .dataframe thead th {\n",
       "        text-align: right;\n",
       "    }\n",
       "</style>\n",
       "<table border=\"1\" class=\"dataframe\">\n",
       "  <thead>\n",
       "    <tr style=\"text-align: right;\">\n",
       "      <th></th>\n",
       "      <th>Unnamed: 0</th>\n",
       "      <th>ID</th>\n",
       "      <th>Candidate</th>\n",
       "      <th>Constituency ∇</th>\n",
       "      <th>Party</th>\n",
       "      <th>Criminal Case</th>\n",
       "      <th>Total Assets</th>\n",
       "      <th>Liabilities</th>\n",
       "      <th>state</th>\n",
       "      <th>Ratio</th>\n",
       "    </tr>\n",
       "  </thead>\n",
       "  <tbody>\n",
       "    <tr>\n",
       "      <th>0</th>\n",
       "      <td>0</td>\n",
       "      <td>500</td>\n",
       "      <td>sdv-pii-1yd3o</td>\n",
       "      <td>sdv-pii-a4l0v</td>\n",
       "      <td>4.0</td>\n",
       "      <td>1</td>\n",
       "      <td>50000000</td>\n",
       "      <td>0</td>\n",
       "      <td>Nevada</td>\n",
       "      <td>1.000000e+10</td>\n",
       "    </tr>\n",
       "    <tr>\n",
       "      <th>1</th>\n",
       "      <td>1</td>\n",
       "      <td>501</td>\n",
       "      <td>sdv-pii-84xm0</td>\n",
       "      <td>sdv-pii-ise5n</td>\n",
       "      <td>3.0</td>\n",
       "      <td>0</td>\n",
       "      <td>20000000</td>\n",
       "      <td>0</td>\n",
       "      <td>New Hampshire</td>\n",
       "      <td>1.000000e+10</td>\n",
       "    </tr>\n",
       "    <tr>\n",
       "      <th>2</th>\n",
       "      <td>2</td>\n",
       "      <td>502</td>\n",
       "      <td>sdv-pii-p4mjq</td>\n",
       "      <td>sdv-pii-8rv6r</td>\n",
       "      <td>2.0</td>\n",
       "      <td>2</td>\n",
       "      <td>40000000</td>\n",
       "      <td>0</td>\n",
       "      <td>Maryland</td>\n",
       "      <td>1.000000e+10</td>\n",
       "    </tr>\n",
       "    <tr>\n",
       "      <th>3</th>\n",
       "      <td>3</td>\n",
       "      <td>503</td>\n",
       "      <td>sdv-pii-0lguj</td>\n",
       "      <td>sdv-pii-l5c6a</td>\n",
       "      <td>11.0</td>\n",
       "      <td>3</td>\n",
       "      <td>30000000</td>\n",
       "      <td>3300000</td>\n",
       "      <td>Washington</td>\n",
       "      <td>9.090909e+00</td>\n",
       "    </tr>\n",
       "    <tr>\n",
       "      <th>4</th>\n",
       "      <td>4</td>\n",
       "      <td>504</td>\n",
       "      <td>sdv-pii-sgo1a</td>\n",
       "      <td>sdv-pii-h7ugz</td>\n",
       "      <td>4.0</td>\n",
       "      <td>1</td>\n",
       "      <td>50000000</td>\n",
       "      <td>5300000</td>\n",
       "      <td>Maine</td>\n",
       "      <td>9.433962e+00</td>\n",
       "    </tr>\n",
       "    <tr>\n",
       "      <th>...</th>\n",
       "      <td>...</td>\n",
       "      <td>...</td>\n",
       "      <td>...</td>\n",
       "      <td>...</td>\n",
       "      <td>...</td>\n",
       "      <td>...</td>\n",
       "      <td>...</td>\n",
       "      <td>...</td>\n",
       "      <td>...</td>\n",
       "      <td>...</td>\n",
       "    </tr>\n",
       "    <tr>\n",
       "      <th>3054</th>\n",
       "      <td>3054</td>\n",
       "      <td>2054</td>\n",
       "      <td>V. Sasi</td>\n",
       "      <td>CHIRAYINKEEZHU</td>\n",
       "      <td>5.0</td>\n",
       "      <td>1</td>\n",
       "      <td>6100000</td>\n",
       "      <td>1000000</td>\n",
       "      <td>KERALA</td>\n",
       "      <td>6.100000e+00</td>\n",
       "    </tr>\n",
       "    <tr>\n",
       "      <th>3055</th>\n",
       "      <td>3055</td>\n",
       "      <td>2055</td>\n",
       "      <td>Pushkar Lal Dangi</td>\n",
       "      <td>MAVLI</td>\n",
       "      <td>8.0</td>\n",
       "      <td>0</td>\n",
       "      <td>20000000</td>\n",
       "      <td>800000</td>\n",
       "      <td>RAJASTHAN</td>\n",
       "      <td>2.500000e+01</td>\n",
       "    </tr>\n",
       "    <tr>\n",
       "      <th>3056</th>\n",
       "      <td>3056</td>\n",
       "      <td>2056</td>\n",
       "      <td>Dr. Manju Shiwach</td>\n",
       "      <td>MODI NAGAR</td>\n",
       "      <td>4.0</td>\n",
       "      <td>0</td>\n",
       "      <td>130000000</td>\n",
       "      <td>8500000</td>\n",
       "      <td>UTTAR PRADESH</td>\n",
       "      <td>1.529412e+01</td>\n",
       "    </tr>\n",
       "    <tr>\n",
       "      <th>3057</th>\n",
       "      <td>3057</td>\n",
       "      <td>2057</td>\n",
       "      <td>Mansing Fattesingrao Naik</td>\n",
       "      <td>SHIRALA</td>\n",
       "      <td>13.0</td>\n",
       "      <td>1</td>\n",
       "      <td>250000000</td>\n",
       "      <td>9400000</td>\n",
       "      <td>MAHARASHTRA</td>\n",
       "      <td>2.659574e+01</td>\n",
       "    </tr>\n",
       "    <tr>\n",
       "      <th>3058</th>\n",
       "      <td>3058</td>\n",
       "      <td>2058</td>\n",
       "      <td>Nyato Rigia</td>\n",
       "      <td>TALIHA</td>\n",
       "      <td>4.0</td>\n",
       "      <td>0</td>\n",
       "      <td>1100000</td>\n",
       "      <td>0</td>\n",
       "      <td>ARUNACHAL PRADESH</td>\n",
       "      <td>1.000000e+10</td>\n",
       "    </tr>\n",
       "  </tbody>\n",
       "</table>\n",
       "<p>3022 rows × 10 columns</p>\n",
       "</div>"
      ],
      "text/plain": [
       "      Unnamed: 0    ID                  Candidate  Constituency ∇  Party  \\\n",
       "0              0   500              sdv-pii-1yd3o   sdv-pii-a4l0v    4.0   \n",
       "1              1   501              sdv-pii-84xm0   sdv-pii-ise5n    3.0   \n",
       "2              2   502              sdv-pii-p4mjq   sdv-pii-8rv6r    2.0   \n",
       "3              3   503              sdv-pii-0lguj   sdv-pii-l5c6a   11.0   \n",
       "4              4   504              sdv-pii-sgo1a   sdv-pii-h7ugz    4.0   \n",
       "...          ...   ...                        ...             ...    ...   \n",
       "3054        3054  2054                    V. Sasi  CHIRAYINKEEZHU    5.0   \n",
       "3055        3055  2055          Pushkar Lal Dangi           MAVLI    8.0   \n",
       "3056        3056  2056          Dr. Manju Shiwach      MODI NAGAR    4.0   \n",
       "3057        3057  2057  Mansing Fattesingrao Naik         SHIRALA   13.0   \n",
       "3058        3058  2058                Nyato Rigia          TALIHA    4.0   \n",
       "\n",
       "      Criminal Case  Total Assets  Liabilities              state  \\\n",
       "0                 1      50000000            0             Nevada   \n",
       "1                 0      20000000            0      New Hampshire   \n",
       "2                 2      40000000            0           Maryland   \n",
       "3                 3      30000000      3300000         Washington   \n",
       "4                 1      50000000      5300000              Maine   \n",
       "...             ...           ...          ...                ...   \n",
       "3054              1       6100000      1000000             KERALA   \n",
       "3055              0      20000000       800000          RAJASTHAN   \n",
       "3056              0     130000000      8500000      UTTAR PRADESH   \n",
       "3057              1     250000000      9400000        MAHARASHTRA   \n",
       "3058              0       1100000            0  ARUNACHAL PRADESH   \n",
       "\n",
       "             Ratio  \n",
       "0     1.000000e+10  \n",
       "1     1.000000e+10  \n",
       "2     1.000000e+10  \n",
       "3     9.090909e+00  \n",
       "4     9.433962e+00  \n",
       "...            ...  \n",
       "3054  6.100000e+00  \n",
       "3055  2.500000e+01  \n",
       "3056  1.529412e+01  \n",
       "3057  2.659574e+01  \n",
       "3058  1.000000e+10  \n",
       "\n",
       "[3022 rows x 10 columns]"
      ]
     },
     "execution_count": 19,
     "metadata": {},
     "output_type": "execute_result"
    }
   ],
   "source": [
    "X"
   ]
  },
  {
   "cell_type": "code",
   "execution_count": 20,
   "id": "6c9c5350",
   "metadata": {
    "execution": {
     "iopub.execute_input": "2024-04-14T04:33:43.370884Z",
     "iopub.status.busy": "2024-04-14T04:33:43.370530Z",
     "iopub.status.idle": "2024-04-14T04:33:43.478708Z",
     "shell.execute_reply": "2024-04-14T04:33:43.477581Z"
    },
    "papermill": {
     "duration": 0.12844,
     "end_time": "2024-04-14T04:33:43.481205",
     "exception": false,
     "start_time": "2024-04-14T04:33:43.352765",
     "status": "completed"
    },
    "tags": []
   },
   "outputs": [],
   "source": [
    "from sklearn.model_selection import train_test_split\n",
    "\n",
    "X_train, X_valid, Y_train, Y_valid = train_test_split(X, Y, random_state=204, train_size=0.8, shuffle=True) "
   ]
  },
  {
   "cell_type": "code",
   "execution_count": 21,
   "id": "e583957a",
   "metadata": {
    "execution": {
     "iopub.execute_input": "2024-04-14T04:33:43.517994Z",
     "iopub.status.busy": "2024-04-14T04:33:43.517266Z",
     "iopub.status.idle": "2024-04-14T04:33:43.524550Z",
     "shell.execute_reply": "2024-04-14T04:33:43.523492Z"
    },
    "papermill": {
     "duration": 0.028145,
     "end_time": "2024-04-14T04:33:43.526825",
     "exception": false,
     "start_time": "2024-04-14T04:33:43.498680",
     "status": "completed"
    },
    "tags": []
   },
   "outputs": [],
   "source": [
    "from sklearn.preprocessing import OrdinalEncoder\n",
    "education_encoder = OrdinalEncoder()\n",
    "Y_train = education_encoder.fit_transform(Y_train.values.reshape(-1, 1))\n",
    "Y_valid = education_encoder.transform(Y_valid.values.reshape(-1,1))"
   ]
  },
  {
   "cell_type": "code",
   "execution_count": 22,
   "id": "b16327a1",
   "metadata": {
    "execution": {
     "iopub.execute_input": "2024-04-14T04:33:43.562206Z",
     "iopub.status.busy": "2024-04-14T04:33:43.561504Z",
     "iopub.status.idle": "2024-04-14T04:33:43.568017Z",
     "shell.execute_reply": "2024-04-14T04:33:43.567039Z"
    },
    "papermill": {
     "duration": 0.027033,
     "end_time": "2024-04-14T04:33:43.570170",
     "exception": false,
     "start_time": "2024-04-14T04:33:43.543137",
     "status": "completed"
    },
    "tags": []
   },
   "outputs": [],
   "source": [
    "X_train = X_train.drop(columns=['ID', 'Candidate', 'Constituency ∇', 'state'])\n",
    "X_valid = X_valid.drop(columns=['ID', 'Candidate', 'Constituency ∇', 'state'])"
   ]
  },
  {
   "cell_type": "code",
   "execution_count": 23,
   "id": "5666ae5d",
   "metadata": {
    "execution": {
     "iopub.execute_input": "2024-04-14T04:33:43.605360Z",
     "iopub.status.busy": "2024-04-14T04:33:43.604987Z",
     "iopub.status.idle": "2024-04-14T04:33:43.620453Z",
     "shell.execute_reply": "2024-04-14T04:33:43.619305Z"
    },
    "papermill": {
     "duration": 0.036129,
     "end_time": "2024-04-14T04:33:43.622885",
     "exception": false,
     "start_time": "2024-04-14T04:33:43.586756",
     "status": "completed"
    },
    "tags": []
   },
   "outputs": [
    {
     "data": {
      "text/html": [
       "<div>\n",
       "<style scoped>\n",
       "    .dataframe tbody tr th:only-of-type {\n",
       "        vertical-align: middle;\n",
       "    }\n",
       "\n",
       "    .dataframe tbody tr th {\n",
       "        vertical-align: top;\n",
       "    }\n",
       "\n",
       "    .dataframe thead th {\n",
       "        text-align: right;\n",
       "    }\n",
       "</style>\n",
       "<table border=\"1\" class=\"dataframe\">\n",
       "  <thead>\n",
       "    <tr style=\"text-align: right;\">\n",
       "      <th></th>\n",
       "      <th>Unnamed: 0</th>\n",
       "      <th>Party</th>\n",
       "      <th>Criminal Case</th>\n",
       "      <th>Total Assets</th>\n",
       "      <th>Liabilities</th>\n",
       "      <th>Ratio</th>\n",
       "    </tr>\n",
       "  </thead>\n",
       "  <tbody>\n",
       "    <tr>\n",
       "      <th>1488</th>\n",
       "      <td>1488</td>\n",
       "      <td>4.0</td>\n",
       "      <td>2</td>\n",
       "      <td>100000000</td>\n",
       "      <td>0</td>\n",
       "      <td>1.000000e+10</td>\n",
       "    </tr>\n",
       "    <tr>\n",
       "      <th>22</th>\n",
       "      <td>22</td>\n",
       "      <td>9.0</td>\n",
       "      <td>1</td>\n",
       "      <td>1100000</td>\n",
       "      <td>300000</td>\n",
       "      <td>3.666667e+00</td>\n",
       "    </tr>\n",
       "    <tr>\n",
       "      <th>1605</th>\n",
       "      <td>1605</td>\n",
       "      <td>4.0</td>\n",
       "      <td>1</td>\n",
       "      <td>30000000</td>\n",
       "      <td>0</td>\n",
       "      <td>1.000000e+10</td>\n",
       "    </tr>\n",
       "    <tr>\n",
       "      <th>995</th>\n",
       "      <td>995</td>\n",
       "      <td>4.0</td>\n",
       "      <td>2</td>\n",
       "      <td>20000000</td>\n",
       "      <td>90000</td>\n",
       "      <td>2.222222e+02</td>\n",
       "    </tr>\n",
       "    <tr>\n",
       "      <th>1755</th>\n",
       "      <td>1755</td>\n",
       "      <td>4.0</td>\n",
       "      <td>0</td>\n",
       "      <td>120000000</td>\n",
       "      <td>0</td>\n",
       "      <td>1.000000e+10</td>\n",
       "    </tr>\n",
       "    <tr>\n",
       "      <th>...</th>\n",
       "      <td>...</td>\n",
       "      <td>...</td>\n",
       "      <td>...</td>\n",
       "      <td>...</td>\n",
       "      <td>...</td>\n",
       "      <td>...</td>\n",
       "    </tr>\n",
       "    <tr>\n",
       "      <th>2687</th>\n",
       "      <td>2687</td>\n",
       "      <td>6.0</td>\n",
       "      <td>4</td>\n",
       "      <td>10000000</td>\n",
       "      <td>0</td>\n",
       "      <td>1.000000e+10</td>\n",
       "    </tr>\n",
       "    <tr>\n",
       "      <th>2621</th>\n",
       "      <td>2621</td>\n",
       "      <td>4.0</td>\n",
       "      <td>0</td>\n",
       "      <td>72000</td>\n",
       "      <td>0</td>\n",
       "      <td>1.000000e+10</td>\n",
       "    </tr>\n",
       "    <tr>\n",
       "      <th>254</th>\n",
       "      <td>254</td>\n",
       "      <td>4.0</td>\n",
       "      <td>0</td>\n",
       "      <td>20000000</td>\n",
       "      <td>60000000</td>\n",
       "      <td>3.333333e-01</td>\n",
       "    </tr>\n",
       "    <tr>\n",
       "      <th>1818</th>\n",
       "      <td>1818</td>\n",
       "      <td>4.0</td>\n",
       "      <td>0</td>\n",
       "      <td>60000000</td>\n",
       "      <td>6100000</td>\n",
       "      <td>9.836066e+00</td>\n",
       "    </tr>\n",
       "    <tr>\n",
       "      <th>1113</th>\n",
       "      <td>1113</td>\n",
       "      <td>1.0</td>\n",
       "      <td>0</td>\n",
       "      <td>120000000</td>\n",
       "      <td>4200000</td>\n",
       "      <td>2.857143e+01</td>\n",
       "    </tr>\n",
       "  </tbody>\n",
       "</table>\n",
       "<p>2417 rows × 6 columns</p>\n",
       "</div>"
      ],
      "text/plain": [
       "      Unnamed: 0  Party  Criminal Case  Total Assets  Liabilities  \\\n",
       "1488        1488    4.0              2     100000000            0   \n",
       "22            22    9.0              1       1100000       300000   \n",
       "1605        1605    4.0              1      30000000            0   \n",
       "995          995    4.0              2      20000000        90000   \n",
       "1755        1755    4.0              0     120000000            0   \n",
       "...          ...    ...            ...           ...          ...   \n",
       "2687        2687    6.0              4      10000000            0   \n",
       "2621        2621    4.0              0         72000            0   \n",
       "254          254    4.0              0      20000000     60000000   \n",
       "1818        1818    4.0              0      60000000      6100000   \n",
       "1113        1113    1.0              0     120000000      4200000   \n",
       "\n",
       "             Ratio  \n",
       "1488  1.000000e+10  \n",
       "22    3.666667e+00  \n",
       "1605  1.000000e+10  \n",
       "995   2.222222e+02  \n",
       "1755  1.000000e+10  \n",
       "...            ...  \n",
       "2687  1.000000e+10  \n",
       "2621  1.000000e+10  \n",
       "254   3.333333e-01  \n",
       "1818  9.836066e+00  \n",
       "1113  2.857143e+01  \n",
       "\n",
       "[2417 rows x 6 columns]"
      ]
     },
     "execution_count": 23,
     "metadata": {},
     "output_type": "execute_result"
    }
   ],
   "source": [
    "X_train"
   ]
  },
  {
   "cell_type": "code",
   "execution_count": 24,
   "id": "0bc9093a",
   "metadata": {
    "execution": {
     "iopub.execute_input": "2024-04-14T04:33:43.660096Z",
     "iopub.status.busy": "2024-04-14T04:33:43.659306Z",
     "iopub.status.idle": "2024-04-14T04:33:43.666428Z",
     "shell.execute_reply": "2024-04-14T04:33:43.665634Z"
    },
    "papermill": {
     "duration": 0.0277,
     "end_time": "2024-04-14T04:33:43.668586",
     "exception": false,
     "start_time": "2024-04-14T04:33:43.640886",
     "status": "completed"
    },
    "tags": []
   },
   "outputs": [],
   "source": [
    "X_train = X_train.drop(columns='Unnamed: 0', axis=1)\n",
    "X_valid = X_valid.drop(columns='Unnamed: 0', axis=1)"
   ]
  },
  {
   "cell_type": "code",
   "execution_count": 25,
   "id": "66cba93a",
   "metadata": {
    "execution": {
     "iopub.execute_input": "2024-04-14T04:33:43.703666Z",
     "iopub.status.busy": "2024-04-14T04:33:43.703271Z",
     "iopub.status.idle": "2024-04-14T04:33:43.717437Z",
     "shell.execute_reply": "2024-04-14T04:33:43.716705Z"
    },
    "papermill": {
     "duration": 0.034341,
     "end_time": "2024-04-14T04:33:43.719567",
     "exception": false,
     "start_time": "2024-04-14T04:33:43.685226",
     "status": "completed"
    },
    "tags": []
   },
   "outputs": [],
   "source": [
    "from sklearn.preprocessing import StandardScaler\n",
    "\n",
    "assets_scaler = StandardScaler()\n",
    "liabilities_scaler = StandardScaler()\n",
    "criminals_scaler = StandardScaler()\n",
    "ratio_scaler = StandardScaler()\n",
    "\n",
    "X_train['Total Assets'] = assets_scaler.fit_transform(np.array(X_train['Total Assets']).reshape(-1,1))\n",
    "X_train['Liabilities'] = liabilities_scaler.fit_transform(np.array(X_train['Liabilities']).reshape(-1,1))\n",
    "X_train['Criminal Case'] = criminals_scaler.fit_transform(np.array(X_train['Criminal Case']).reshape(-1,1))\n",
    "X_train['Ratio'] = ratio_scaler.fit_transform(np.array(X_train['Ratio']).reshape(-1,1))\n",
    "\n",
    "X_valid['Total Assets'] = assets_scaler.transform(np.array(X_valid['Total Assets']).reshape(-1,1))\n",
    "X_valid['Liabilities'] = liabilities_scaler.transform(np.array(X_valid['Liabilities']).reshape(-1,1))\n",
    "X_valid['Criminal Case'] = criminals_scaler.transform(np.array(X_valid['Criminal Case']).reshape(-1,1))\n",
    "X_valid['Ratio'] = ratio_scaler.transform(np.array(X_valid['Ratio']).reshape(-1,1))"
   ]
  },
  {
   "cell_type": "code",
   "execution_count": 26,
   "id": "1b06295a",
   "metadata": {
    "execution": {
     "iopub.execute_input": "2024-04-14T04:33:43.755096Z",
     "iopub.status.busy": "2024-04-14T04:33:43.754369Z",
     "iopub.status.idle": "2024-04-14T04:33:44.403617Z",
     "shell.execute_reply": "2024-04-14T04:33:44.402289Z"
    },
    "papermill": {
     "duration": 0.669829,
     "end_time": "2024-04-14T04:33:44.406157",
     "exception": false,
     "start_time": "2024-04-14T04:33:43.736328",
     "status": "completed"
    },
    "tags": []
   },
   "outputs": [
    {
     "data": {
      "text/plain": [
       "<Axes: >"
      ]
     },
     "execution_count": 26,
     "metadata": {},
     "output_type": "execute_result"
    },
    {
     "data": {
      "image/png": "[encoded data removed]",
      "text/plain": [
       "<Figure size 500x400 with 2 Axes>"
      ]
     },
     "metadata": {},
     "output_type": "display_data"
    }
   ],
   "source": [
    "import seaborn as sns\n",
    "\n",
    "temp = X_train.copy()\n",
    "temp['Education'] = Y_train\n",
    "\n",
    "f, ax = plt.subplots(figsize=(5, 4))\n",
    "corr = temp.corr()\n",
    "sns.heatmap(corr,\n",
    "    cmap=sns.diverging_palette(220, 10, as_cmap=True),\n",
    "    vmin=-1.0, vmax=1.0,\n",
    "    square=True, ax=ax)"
   ]
  },
  {
   "cell_type": "code",
   "execution_count": 27,
   "id": "2b7519c8",
   "metadata": {
    "execution": {
     "iopub.execute_input": "2024-04-14T04:33:44.460191Z",
     "iopub.status.busy": "2024-04-14T04:33:44.459053Z",
     "iopub.status.idle": "2024-04-14T04:33:44.474463Z",
     "shell.execute_reply": "2024-04-14T04:33:44.473699Z"
    },
    "jupyter": {
     "source_hidden": true
    },
    "papermill": {
     "duration": 0.047239,
     "end_time": "2024-04-14T04:33:44.479394",
     "exception": false,
     "start_time": "2024-04-14T04:33:44.432155",
     "status": "completed"
    },
    "tags": []
   },
   "outputs": [
    {
     "data": {
      "text/html": [
       "<div>\n",
       "<style scoped>\n",
       "    .dataframe tbody tr th:only-of-type {\n",
       "        vertical-align: middle;\n",
       "    }\n",
       "\n",
       "    .dataframe tbody tr th {\n",
       "        vertical-align: top;\n",
       "    }\n",
       "\n",
       "    .dataframe thead th {\n",
       "        text-align: right;\n",
       "    }\n",
       "</style>\n",
       "<table border=\"1\" class=\"dataframe\">\n",
       "  <thead>\n",
       "    <tr style=\"text-align: right;\">\n",
       "      <th></th>\n",
       "      <th>Party</th>\n",
       "      <th>Criminal Case</th>\n",
       "      <th>Total Assets</th>\n",
       "      <th>Liabilities</th>\n",
       "      <th>Ratio</th>\n",
       "    </tr>\n",
       "  </thead>\n",
       "  <tbody>\n",
       "    <tr>\n",
       "      <th>1488</th>\n",
       "      <td>4.0</td>\n",
       "      <td>0.049757</td>\n",
       "      <td>-0.018227</td>\n",
       "      <td>-0.339745</td>\n",
       "      <td>1.884619</td>\n",
       "    </tr>\n",
       "    <tr>\n",
       "      <th>22</th>\n",
       "      <td>9.0</td>\n",
       "      <td>-0.189810</td>\n",
       "      <td>-0.414912</td>\n",
       "      <td>-0.333892</td>\n",
       "      <td>-0.530611</td>\n",
       "    </tr>\n",
       "    <tr>\n",
       "      <th>1605</th>\n",
       "      <td>4.0</td>\n",
       "      <td>-0.189810</td>\n",
       "      <td>-0.298995</td>\n",
       "      <td>-0.339745</td>\n",
       "      <td>1.884619</td>\n",
       "    </tr>\n",
       "    <tr>\n",
       "      <th>995</th>\n",
       "      <td>4.0</td>\n",
       "      <td>0.049757</td>\n",
       "      <td>-0.339105</td>\n",
       "      <td>-0.337989</td>\n",
       "      <td>-0.530611</td>\n",
       "    </tr>\n",
       "    <tr>\n",
       "      <th>1755</th>\n",
       "      <td>4.0</td>\n",
       "      <td>-0.429376</td>\n",
       "      <td>0.061992</td>\n",
       "      <td>-0.339745</td>\n",
       "      <td>1.884619</td>\n",
       "    </tr>\n",
       "    <tr>\n",
       "      <th>...</th>\n",
       "      <td>...</td>\n",
       "      <td>...</td>\n",
       "      <td>...</td>\n",
       "      <td>...</td>\n",
       "      <td>...</td>\n",
       "    </tr>\n",
       "    <tr>\n",
       "      <th>2687</th>\n",
       "      <td>6.0</td>\n",
       "      <td>0.528890</td>\n",
       "      <td>-0.379214</td>\n",
       "      <td>-0.339745</td>\n",
       "      <td>1.884619</td>\n",
       "    </tr>\n",
       "    <tr>\n",
       "      <th>2621</th>\n",
       "      <td>4.0</td>\n",
       "      <td>-0.429376</td>\n",
       "      <td>-0.419035</td>\n",
       "      <td>-0.339745</td>\n",
       "      <td>1.884619</td>\n",
       "    </tr>\n",
       "    <tr>\n",
       "      <th>254</th>\n",
       "      <td>4.0</td>\n",
       "      <td>-0.429376</td>\n",
       "      <td>-0.339105</td>\n",
       "      <td>0.830767</td>\n",
       "      <td>-0.530611</td>\n",
       "    </tr>\n",
       "    <tr>\n",
       "      <th>1818</th>\n",
       "      <td>4.0</td>\n",
       "      <td>-0.429376</td>\n",
       "      <td>-0.178666</td>\n",
       "      <td>-0.220743</td>\n",
       "      <td>-0.530611</td>\n",
       "    </tr>\n",
       "    <tr>\n",
       "      <th>1113</th>\n",
       "      <td>1.0</td>\n",
       "      <td>-0.429376</td>\n",
       "      <td>0.061992</td>\n",
       "      <td>-0.257809</td>\n",
       "      <td>-0.530611</td>\n",
       "    </tr>\n",
       "  </tbody>\n",
       "</table>\n",
       "<p>2417 rows × 5 columns</p>\n",
       "</div>"
      ],
      "text/plain": [
       "      Party  Criminal Case  Total Assets  Liabilities     Ratio\n",
       "1488    4.0       0.049757     -0.018227    -0.339745  1.884619\n",
       "22      9.0      -0.189810     -0.414912    -0.333892 -0.530611\n",
       "1605    4.0      -0.189810     -0.298995    -0.339745  1.884619\n",
       "995     4.0       0.049757     -0.339105    -0.337989 -0.530611\n",
       "1755    4.0      -0.429376      0.061992    -0.339745  1.884619\n",
       "...     ...            ...           ...          ...       ...\n",
       "2687    6.0       0.528890     -0.379214    -0.339745  1.884619\n",
       "2621    4.0      -0.429376     -0.419035    -0.339745  1.884619\n",
       "254     4.0      -0.429376     -0.339105     0.830767 -0.530611\n",
       "1818    4.0      -0.429376     -0.178666    -0.220743 -0.530611\n",
       "1113    1.0      -0.429376      0.061992    -0.257809 -0.530611\n",
       "\n",
       "[2417 rows x 5 columns]"
      ]
     },
     "execution_count": 27,
     "metadata": {},
     "output_type": "execute_result"
    }
   ],
   "source": [
    "X_train"
   ]
  },
  {
   "cell_type": "code",
   "execution_count": 28,
   "id": "c1ecd960",
   "metadata": {
    "execution": {
     "iopub.execute_input": "2024-04-14T04:33:44.520883Z",
     "iopub.status.busy": "2024-04-14T04:33:44.520104Z",
     "iopub.status.idle": "2024-04-14T04:33:55.044598Z",
     "shell.execute_reply": "2024-04-14T04:33:55.043528Z"
    },
    "papermill": {
     "duration": 10.54619,
     "end_time": "2024-04-14T04:33:55.047036",
     "exception": false,
     "start_time": "2024-04-14T04:33:44.500846",
     "status": "completed"
    },
    "tags": []
   },
   "outputs": [
    {
     "name": "stderr",
     "output_type": "stream",
     "text": [
      "/opt/conda/lib/python3.10/site-packages/sklearn/utils/validation.py:1143: DataConversionWarning: A column-vector y was passed when a 1d array was expected. Please change the shape of y to (n_samples, ), for example using ravel().\n",
      "  y = column_or_1d(y, warn=True)\n",
      "/opt/conda/lib/python3.10/site-packages/sklearn/linear_model/_logistic.py:458: ConvergenceWarning: lbfgs failed to converge (status=1):\n",
      "STOP: TOTAL NO. of ITERATIONS REACHED LIMIT.\n",
      "\n",
      "Increase the number of iterations (max_iter) or scale the data as shown in:\n",
      "    https://scikit-learn.org/stable/modules/preprocessing.html\n",
      "Please also refer to the documentation for alternative solver options:\n",
      "    https://scikit-learn.org/stable/modules/linear_model.html#logistic-regression\n",
      "  n_iter_i = _check_optimize_result(\n",
      "/tmp/ipykernel_18/2687089237.py:12: DataConversionWarning: A column-vector y was passed when a 1d array was expected. Please change the shape of y to (n_samples,), for example using ravel().\n",
      "  r = RandomForestClassifier().fit(X_train, Y_train)\n",
      "/opt/conda/lib/python3.10/site-packages/sklearn/neighbors/_classification.py:215: DataConversionWarning: A column-vector y was passed when a 1d array was expected. Please change the shape of y to (n_samples,), for example using ravel().\n",
      "  return self._fit(X, y)\n",
      "/opt/conda/lib/python3.10/site-packages/sklearn/ensemble/_gb.py:437: DataConversionWarning: A column-vector y was passed when a 1d array was expected. Please change the shape of y to (n_samples, ), for example using ravel().\n",
      "  y = column_or_1d(y, warn=True)\n"
     ]
    }
   ],
   "source": [
    "from sklearn.linear_model import LogisticRegression\n",
    "from sklearn.tree import DecisionTreeClassifier\n",
    "from sklearn.ensemble import RandomForestClassifier\n",
    "from sklearn.neighbors import KNeighborsClassifier\n",
    "from sklearn.ensemble import GradientBoostingClassifier\n",
    "from sklearn.multiclass import OneVsRestClassifier\n",
    "from sklearn.svm import SVC\n",
    "from sklearn.svm import NuSVC\n",
    "\n",
    "lr = LogisticRegression().fit(X_train, Y_train)\n",
    "d = DecisionTreeClassifier().fit(X_train, Y_train)\n",
    "r = RandomForestClassifier().fit(X_train, Y_train)\n",
    "knn = KNeighborsClassifier(n_neighbors=5).fit(X_train, Y_train)\n",
    "gb = GradientBoostingClassifier(n_estimators=200, learning_rate=.1, max_depth=5, random_state=0).fit(X_train, Y_train)\n",
    "svc = OneVsRestClassifier(SVC(gamma='auto', max_iter=100000)).fit(X_train, Y_train)\n",
    "\n",
    "models = {\n",
    "    'logistic': lr,\n",
    "    'decision_tree': d,\n",
    "    'random_forest': r,\n",
    "    'knn': knn,\n",
    "    'gradient_booster': gb,\n",
    "    'svc': svc\n",
    "}"
   ]
  },
  {
   "cell_type": "markdown",
   "id": "12c3f392",
   "metadata": {
    "papermill": {
     "duration": 0.017326,
     "end_time": "2024-04-14T04:33:55.082195",
     "exception": false,
     "start_time": "2024-04-14T04:33:55.064869",
     "status": "completed"
    },
    "tags": []
   },
   "source": [
    "Taking the majority out of all the trained models"
   ]
  },
  {
   "cell_type": "code",
   "execution_count": 29,
   "id": "ddccea6e",
   "metadata": {
    "execution": {
     "iopub.execute_input": "2024-04-14T04:33:55.119079Z",
     "iopub.status.busy": "2024-04-14T04:33:55.118722Z",
     "iopub.status.idle": "2024-04-14T04:33:56.282240Z",
     "shell.execute_reply": "2024-04-14T04:33:56.281012Z"
    },
    "papermill": {
     "duration": 1.185102,
     "end_time": "2024-04-14T04:33:56.284908",
     "exception": false,
     "start_time": "2024-04-14T04:33:55.099806",
     "status": "completed"
    },
    "tags": []
   },
   "outputs": [
    {
     "data": {
      "text/plain": [
       "[array([9., 5., 9., ..., 5., 5., 5.]),\n",
       " array([9., 9., 9., ..., 8., 1., 6.]),\n",
       " array([9., 9., 9., ..., 8., 1., 6.]),\n",
       " array([9., 1., 9., ..., 5., 0., 5.]),\n",
       " array([9., 9., 2., ..., 8., 1., 6.]),\n",
       " array([9., 6., 1., ..., 0., 3., 6.])]"
      ]
     },
     "execution_count": 29,
     "metadata": {},
     "output_type": "execute_result"
    }
   ],
   "source": [
    "preds = []\n",
    "\n",
    "for model in models:\n",
    "    pred = models[model].predict(X_train)\n",
    "    preds.append(pred)\n",
    "    \n",
    "preds"
   ]
  },
  {
   "cell_type": "code",
   "execution_count": 30,
   "id": "4eee0e5c",
   "metadata": {
    "execution": {
     "iopub.execute_input": "2024-04-14T04:33:56.324771Z",
     "iopub.status.busy": "2024-04-14T04:33:56.323795Z",
     "iopub.status.idle": "2024-04-14T04:33:56.348152Z",
     "shell.execute_reply": "2024-04-14T04:33:56.347172Z"
    },
    "papermill": {
     "duration": 0.046329,
     "end_time": "2024-04-14T04:33:56.350618",
     "exception": false,
     "start_time": "2024-04-14T04:33:56.304289",
     "status": "completed"
    },
    "tags": []
   },
   "outputs": [],
   "source": [
    "from collections import Counter\n",
    "\n",
    "n = X_train.shape[0]\n",
    "final_pred = [0]*n\n",
    "\n",
    "for i in range(n):\n",
    "    temp = []\n",
    "    for j in range(len(models)):\n",
    "        temp.append(preds[j][i])\n",
    "    final_pred[i] = Counter(temp).most_common(1)[0][0]"
   ]
  },
  {
   "cell_type": "code",
   "execution_count": 31,
   "id": "b0c9d66a",
   "metadata": {
    "execution": {
     "iopub.execute_input": "2024-04-14T04:33:56.388225Z",
     "iopub.status.busy": "2024-04-14T04:33:56.387640Z",
     "iopub.status.idle": "2024-04-14T04:33:56.830167Z",
     "shell.execute_reply": "2024-04-14T04:33:56.829089Z"
    },
    "papermill": {
     "duration": 0.46399,
     "end_time": "2024-04-14T04:33:56.832637",
     "exception": false,
     "start_time": "2024-04-14T04:33:56.368647",
     "status": "completed"
    },
    "tags": []
   },
   "outputs": [
    {
     "name": "stdout",
     "output_type": "stream",
     "text": [
      "Accuracy:  0.8427803061646669\n"
     ]
    },
    {
     "data": {
      "image/png": "[encoded data removed]",
      "text/plain": [
       "<Figure size 640x480 with 2 Axes>"
      ]
     },
     "metadata": {},
     "output_type": "display_data"
    }
   ],
   "source": [
    "from sklearn.metrics import accuracy_score, confusion_matrix, ConfusionMatrixDisplay\n",
    "\n",
    "print(\"Accuracy: \", accuracy_score(Y_train, final_pred))\n",
    "\n",
    "cm = confusion_matrix(Y_train, final_pred)\n",
    "display = ConfusionMatrixDisplay(cm)\n",
    "display.plot()\n",
    "\n",
    "plt.show()"
   ]
  },
  {
   "cell_type": "code",
   "execution_count": 32,
   "id": "0eaf6263",
   "metadata": {
    "execution": {
     "iopub.execute_input": "2024-04-14T04:33:56.871963Z",
     "iopub.status.busy": "2024-04-14T04:33:56.871607Z",
     "iopub.status.idle": "2024-04-14T04:33:58.483275Z",
     "shell.execute_reply": "2024-04-14T04:33:58.482034Z"
    },
    "papermill": {
     "duration": 1.634024,
     "end_time": "2024-04-14T04:33:58.485449",
     "exception": false,
     "start_time": "2024-04-14T04:33:56.851425",
     "status": "completed"
    },
    "tags": []
   },
   "outputs": [
    {
     "name": "stdout",
     "output_type": "stream",
     "text": [
      "Accuracy:  0.18181818181818182\n"
     ]
    },
    {
     "data": {
      "image/png": "[encoded data removed]",
      "text/plain": [
       "<Figure size 640x480 with 2 Axes>"
      ]
     },
     "metadata": {},
     "output_type": "display_data"
    }
   ],
   "source": [
    "preds = []\n",
    "\n",
    "for model in models:\n",
    "    pred = models[model].predict(X_train)\n",
    "    preds.append(pred)\n",
    "    \n",
    "from collections import Counter\n",
    "\n",
    "n = X_valid.shape[0]\n",
    "final_pred = [0]*n\n",
    "\n",
    "for i in range(n):\n",
    "    temp = []\n",
    "    for j in range(len(models)):\n",
    "        temp.append(preds[j][i])\n",
    "    final_pred[i] = Counter(temp).most_common(1)[0][0]\n",
    "\n",
    "from sklearn.metrics import accuracy_score, confusion_matrix, ConfusionMatrixDisplay\n",
    "\n",
    "print(\"Accuracy: \", accuracy_score(Y_valid, final_pred))\n",
    "\n",
    "cm = confusion_matrix(Y_valid, final_pred)\n",
    "display = ConfusionMatrixDisplay(cm)\n",
    "display.plot()\n",
    "\n",
    "plt.show()"
   ]
  },
  {
   "cell_type": "code",
   "execution_count": 33,
   "id": "91cc6c1c",
   "metadata": {
    "execution": {
     "iopub.execute_input": "2024-04-14T04:33:58.526236Z",
     "iopub.status.busy": "2024-04-14T04:33:58.525627Z",
     "iopub.status.idle": "2024-04-14T04:33:58.554118Z",
     "shell.execute_reply": "2024-04-14T04:33:58.553268Z"
    },
    "papermill": {
     "duration": 0.051421,
     "end_time": "2024-04-14T04:33:58.556322",
     "exception": false,
     "start_time": "2024-04-14T04:33:58.504901",
     "status": "completed"
    },
    "tags": []
   },
   "outputs": [],
   "source": [
    "test_df = pd.read_csv('/kaggle/input/who-is-the-real-winner/test.csv')\n",
    "\n",
    "assets = test_df['Total Assets']\n",
    "liabilities = test_df['Liabilities']\n",
    "categories = set()\n",
    "\n",
    "for asset in assets:\n",
    "    words = asset.split()\n",
    "    if (len(words) > 1):\n",
    "        categories.add(words[1])\n",
    "        \n",
    "for liability in liabilities:\n",
    "    words = liability.split()\n",
    "    if (len(words) > 1):\n",
    "        categories.add(words[1])\n",
    "        \n",
    "categories\n",
    "total_assets = []\n",
    "for asset in assets:\n",
    "    words = asset.split()\n",
    "    if (len(words) > 1):\n",
    "        magnitude = words[1]\n",
    "        num = int(words[0])\n",
    "        if (magnitude == 'Crore+'):\n",
    "            num *= 10**7\n",
    "        if (magnitude == 'Lac+'):\n",
    "            num *= 10**5\n",
    "        if (magnitude == 'Thou+'):\n",
    "            num *= 10**3\n",
    "        if (magnitude == 'Hund+'):\n",
    "            num *= 100\n",
    "        total_assets.append(num)\n",
    "    else:\n",
    "        total_assets.append(int(words[0]))\n",
    "\n",
    "total_liabilities = []\n",
    "for liability in liabilities:\n",
    "    words = liability.split()\n",
    "    if (len(words) > 1):\n",
    "        magnitude = words[1]\n",
    "        num = int(words[0])\n",
    "        if (magnitude == 'Crore+'):\n",
    "            num *= 10**7\n",
    "        if (magnitude == 'Lac+'):\n",
    "            num *= 10**5\n",
    "        if (magnitude == 'Thou+'):\n",
    "            num *= 10**3\n",
    "        total_liabilities.append(num)\n",
    "    else:\n",
    "        total_liabilities.append(int(words[0]))\n",
    "\n",
    "test_df[\"Total Assets\"] = total_assets\n",
    "test_df[\"Liabilities\"] = total_liabilities"
   ]
  },
  {
   "cell_type": "code",
   "execution_count": 34,
   "id": "271354c7",
   "metadata": {
    "execution": {
     "iopub.execute_input": "2024-04-14T04:33:58.596934Z",
     "iopub.status.busy": "2024-04-14T04:33:58.596558Z",
     "iopub.status.idle": "2024-04-14T04:33:58.607039Z",
     "shell.execute_reply": "2024-04-14T04:33:58.606000Z"
    },
    "papermill": {
     "duration": 0.033231,
     "end_time": "2024-04-14T04:33:58.609183",
     "exception": false,
     "start_time": "2024-04-14T04:33:58.575952",
     "status": "completed"
    },
    "tags": []
   },
   "outputs": [],
   "source": [
    "test_df = test_df.drop(columns=['ID', 'Candidate', 'Constituency ∇', 'state', ])\n",
    "test_df['Ratio'] = test_df['Total Assets'].divide(test_df['Liabilities']).replace(np.inf, 1e10).replace(np.nan, 0)\n",
    "\n",
    "test_df['Total Assets'] = assets_scaler.transform(np.array(test_df['Total Assets']).reshape(-1,1))\n",
    "test_df['Liabilities'] = liabilities_scaler.transform(np.array(test_df['Liabilities']).reshape(-1,1))\n",
    "test_df['Criminal Case'] = criminals_scaler.transform(np.array(test_df['Criminal Case']).reshape(-1,1))\n",
    "test_df['Ratio'] = ratio_scaler.transform(np.array(test_df['Ratio']).reshape(-1,1))"
   ]
  },
  {
   "cell_type": "code",
   "execution_count": 35,
   "id": "489c09b0",
   "metadata": {
    "execution": {
     "iopub.execute_input": "2024-04-14T04:33:58.649567Z",
     "iopub.status.busy": "2024-04-14T04:33:58.649160Z",
     "iopub.status.idle": "2024-04-14T04:33:58.654946Z",
     "shell.execute_reply": "2024-04-14T04:33:58.653968Z"
    },
    "papermill": {
     "duration": 0.028329,
     "end_time": "2024-04-14T04:33:58.656910",
     "exception": false,
     "start_time": "2024-04-14T04:33:58.628581",
     "status": "completed"
    },
    "tags": []
   },
   "outputs": [],
   "source": [
    "test_df['Party'] = party_encoder.transform(test_df['Party'].values.reshape(-1, 1))"
   ]
  },
  {
   "cell_type": "code",
   "execution_count": 36,
   "id": "d49c4d25",
   "metadata": {
    "execution": {
     "iopub.execute_input": "2024-04-14T04:33:58.697541Z",
     "iopub.status.busy": "2024-04-14T04:33:58.697134Z",
     "iopub.status.idle": "2024-04-14T04:33:58.711319Z",
     "shell.execute_reply": "2024-04-14T04:33:58.710269Z"
    },
    "papermill": {
     "duration": 0.036946,
     "end_time": "2024-04-14T04:33:58.713205",
     "exception": false,
     "start_time": "2024-04-14T04:33:58.676259",
     "status": "completed"
    },
    "tags": []
   },
   "outputs": [
    {
     "data": {
      "text/html": [
       "<div>\n",
       "<style scoped>\n",
       "    .dataframe tbody tr th:only-of-type {\n",
       "        vertical-align: middle;\n",
       "    }\n",
       "\n",
       "    .dataframe tbody tr th {\n",
       "        vertical-align: top;\n",
       "    }\n",
       "\n",
       "    .dataframe thead th {\n",
       "        text-align: right;\n",
       "    }\n",
       "</style>\n",
       "<table border=\"1\" class=\"dataframe\">\n",
       "  <thead>\n",
       "    <tr style=\"text-align: right;\">\n",
       "      <th></th>\n",
       "      <th>Party</th>\n",
       "      <th>Criminal Case</th>\n",
       "      <th>Total Assets</th>\n",
       "      <th>Liabilities</th>\n",
       "      <th>Ratio</th>\n",
       "    </tr>\n",
       "  </thead>\n",
       "  <tbody>\n",
       "    <tr>\n",
       "      <th>0</th>\n",
       "      <td>9.0</td>\n",
       "      <td>0.049757</td>\n",
       "      <td>2.388352</td>\n",
       "      <td>1.806195</td>\n",
       "      <td>-0.530611</td>\n",
       "    </tr>\n",
       "    <tr>\n",
       "      <th>1</th>\n",
       "      <td>2.0</td>\n",
       "      <td>-0.189810</td>\n",
       "      <td>-0.339105</td>\n",
       "      <td>-0.314384</td>\n",
       "      <td>-0.530611</td>\n",
       "    </tr>\n",
       "    <tr>\n",
       "      <th>2</th>\n",
       "      <td>13.0</td>\n",
       "      <td>0.289324</td>\n",
       "      <td>1.546049</td>\n",
       "      <td>-0.144660</td>\n",
       "      <td>-0.530611</td>\n",
       "    </tr>\n",
       "    <tr>\n",
       "      <th>3</th>\n",
       "      <td>2.0</td>\n",
       "      <td>-0.189810</td>\n",
       "      <td>-0.339105</td>\n",
       "      <td>-0.339745</td>\n",
       "      <td>1.884619</td>\n",
       "    </tr>\n",
       "    <tr>\n",
       "      <th>4</th>\n",
       "      <td>18.0</td>\n",
       "      <td>-0.429376</td>\n",
       "      <td>0.222430</td>\n",
       "      <td>0.050426</td>\n",
       "      <td>-0.530611</td>\n",
       "    </tr>\n",
       "    <tr>\n",
       "      <th>...</th>\n",
       "      <td>...</td>\n",
       "      <td>...</td>\n",
       "      <td>...</td>\n",
       "      <td>...</td>\n",
       "      <td>...</td>\n",
       "    </tr>\n",
       "    <tr>\n",
       "      <th>1369</th>\n",
       "      <td>4.0</td>\n",
       "      <td>-0.429376</td>\n",
       "      <td>-0.379214</td>\n",
       "      <td>-0.339745</td>\n",
       "      <td>1.884619</td>\n",
       "    </tr>\n",
       "    <tr>\n",
       "      <th>1370</th>\n",
       "      <td>3.0</td>\n",
       "      <td>-0.189810</td>\n",
       "      <td>-0.419324</td>\n",
       "      <td>-0.314384</td>\n",
       "      <td>-0.530611</td>\n",
       "    </tr>\n",
       "    <tr>\n",
       "      <th>1371</th>\n",
       "      <td>8.0</td>\n",
       "      <td>-0.189810</td>\n",
       "      <td>-0.218776</td>\n",
       "      <td>-0.339745</td>\n",
       "      <td>1.884619</td>\n",
       "    </tr>\n",
       "    <tr>\n",
       "      <th>1372</th>\n",
       "      <td>4.0</td>\n",
       "      <td>-0.189810</td>\n",
       "      <td>-0.339105</td>\n",
       "      <td>-0.329991</td>\n",
       "      <td>-0.530611</td>\n",
       "    </tr>\n",
       "    <tr>\n",
       "      <th>1373</th>\n",
       "      <td>4.0</td>\n",
       "      <td>-0.429376</td>\n",
       "      <td>-0.058337</td>\n",
       "      <td>-0.339745</td>\n",
       "      <td>1.884619</td>\n",
       "    </tr>\n",
       "  </tbody>\n",
       "</table>\n",
       "<p>1374 rows × 5 columns</p>\n",
       "</div>"
      ],
      "text/plain": [
       "      Party  Criminal Case  Total Assets  Liabilities     Ratio\n",
       "0       9.0       0.049757      2.388352     1.806195 -0.530611\n",
       "1       2.0      -0.189810     -0.339105    -0.314384 -0.530611\n",
       "2      13.0       0.289324      1.546049    -0.144660 -0.530611\n",
       "3       2.0      -0.189810     -0.339105    -0.339745  1.884619\n",
       "4      18.0      -0.429376      0.222430     0.050426 -0.530611\n",
       "...     ...            ...           ...          ...       ...\n",
       "1369    4.0      -0.429376     -0.379214    -0.339745  1.884619\n",
       "1370    3.0      -0.189810     -0.419324    -0.314384 -0.530611\n",
       "1371    8.0      -0.189810     -0.218776    -0.339745  1.884619\n",
       "1372    4.0      -0.189810     -0.339105    -0.329991 -0.530611\n",
       "1373    4.0      -0.429376     -0.058337    -0.339745  1.884619\n",
       "\n",
       "[1374 rows x 5 columns]"
      ]
     },
     "execution_count": 36,
     "metadata": {},
     "output_type": "execute_result"
    }
   ],
   "source": [
    "test_df"
   ]
  },
  {
   "cell_type": "code",
   "execution_count": 37,
   "id": "8b8eeeb8",
   "metadata": {
    "execution": {
     "iopub.execute_input": "2024-04-14T04:33:58.753679Z",
     "iopub.status.busy": "2024-04-14T04:33:58.753059Z",
     "iopub.status.idle": "2024-04-14T04:33:59.437759Z",
     "shell.execute_reply": "2024-04-14T04:33:59.436738Z"
    },
    "papermill": {
     "duration": 0.707684,
     "end_time": "2024-04-14T04:33:59.440308",
     "exception": false,
     "start_time": "2024-04-14T04:33:58.732624",
     "status": "completed"
    },
    "tags": []
   },
   "outputs": [],
   "source": [
    "preds = []\n",
    "\n",
    "for model in models:\n",
    "    pred = models[model].predict(test_df)\n",
    "    preds.append(pred)\n",
    "    \n",
    "from collections import Counter\n",
    "\n",
    "n = test_df.shape[0]\n",
    "Y_pred = [0]*n\n",
    "\n",
    "for i in range(n):\n",
    "    temp = []\n",
    "    for j in range(len(models)):\n",
    "        temp.append(preds[j][i])\n",
    "    Y_pred[i] = Counter(temp).most_common(1)[0][0]\n",
    "\n",
    "Y_pred = education_encoder.inverse_transform(np.array(Y_pred).reshape(-1,1))\n",
    "Y_pred = pd.DataFrame(Y_pred)"
   ]
  },
  {
   "cell_type": "code",
   "execution_count": 38,
   "id": "a5e4e968",
   "metadata": {
    "execution": {
     "iopub.execute_input": "2024-04-14T04:33:59.482320Z",
     "iopub.status.busy": "2024-04-14T04:33:59.481937Z",
     "iopub.status.idle": "2024-04-14T04:33:59.490211Z",
     "shell.execute_reply": "2024-04-14T04:33:59.489185Z"
    },
    "papermill": {
     "duration": 0.032009,
     "end_time": "2024-04-14T04:33:59.492581",
     "exception": false,
     "start_time": "2024-04-14T04:33:59.460572",
     "status": "completed"
    },
    "tags": []
   },
   "outputs": [],
   "source": [
    "Y_pred.to_csv(\"ensemble.csv\")"
   ]
  }
 ],
 "metadata": {
  "kaggle": {
   "accelerator": "none",
   "dataSources": [
    {
     "databundleVersionId": 8059709,
     "sourceId": 72632,
     "sourceType": "competition"
    },
    {
     "datasetId": 4782832,
     "sourceId": 8099440,
     "sourceType": "datasetVersion"
    }
   ],
   "dockerImageVersionId": 30684,
   "isGpuEnabled": false,
   "isInternetEnabled": false,
   "language": "python",
   "sourceType": "notebook"
  },
  "kernelspec": {
   "display_name": "Python 3",
   "language": "python",
   "name": "python3"
  },
  "language_info": {
   "codemirror_mode": {
    "name": "ipython",
    "version": 3
   },
   "file_extension": ".py",
   "mimetype": "text/x-python",
   "name": "python",
   "nbconvert_exporter": "python",
   "pygments_lexer": "ipython3",
   "version": "3.10.13"
  },
  "papermill": {
   "default_parameters": {},
   "duration": 25.456479,
   "end_time": "2024-04-14T04:34:00.233809",
   "environment_variables": {},
   "exception": null,
   "input_path": "__notebook__.ipynb",
   "output_path": "__notebook__.ipynb",
   "parameters": {},
   "start_time": "2024-04-14T04:33:34.777330",
   "version": "2.5.0"
  }
 },
 "nbformat": 4,
 "nbformat_minor": 5
}
